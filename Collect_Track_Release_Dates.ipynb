{
 "cells": [
  {
   "cell_type": "code",
   "execution_count": 1,
   "metadata": {
    "collapsed": true
   },
   "outputs": [],
   "source": [
    "import os\n",
    "import pandas as pd\n",
    "import spotipy\n",
    "import spotipy.util as util\n",
    "from spotipy.oauth2 import SpotifyClientCredentials\n",
    "from sqlalchemy import create_engine, MetaData, Table, select\n",
    "import string\n",
    "import boto3\n",
    "import pickle"
   ]
  },
  {
   "cell_type": "markdown",
   "metadata": {},
   "source": [
    "# Collect Track Release Dates"
   ]
  },
  {
   "cell_type": "markdown",
   "metadata": {},
   "source": [
    "From a previous project, connect to database and create dataframe of track data."
   ]
  },
  {
   "cell_type": "code",
   "execution_count": 2,
   "metadata": {
    "collapsed": true
   },
   "outputs": [],
   "source": [
    "engine_name = 'postgresql://' + str(os.environ['zU']) + ':' + str(os.environ['zP']) + str(os.environ['AWS_PROJECT_KOJAK_EC2'])\n",
    "engine = create_engine(engine_name)"
   ]
  },
  {
   "cell_type": "code",
   "execution_count": 3,
   "metadata": {
    "collapsed": true
   },
   "outputs": [],
   "source": [
    "df = pd.read_sql_query('''SELECT \n",
    "                          tracks.album_name,\n",
    "                          tracks.album_id,\n",
    "                          tracks.duration_ms,\n",
    "                          tracks.track_id,\n",
    "                          tracks.track_name,\n",
    "                          artists.artist_name,\n",
    "                          artists.artist_id,\n",
    "                          lyrics.lyrics\n",
    "                          FROM tracks\n",
    "                          JOIN artists ON tracks.artist_id = artists.artist_id\n",
    "                          JOIN lyrics ON tracks.track_id = lyrics.track_id\n",
    "                          WHERE tracks.energy IS NOT NULL\n",
    "                          AND lyrics.lyrics IS NOT NULL\n",
    "                          AND artists.artist_name != 'Kid Rock'\n",
    "                          ORDER BY tracks.track_name;''', engine)"
   ]
  },
  {
   "cell_type": "markdown",
   "metadata": {},
   "source": [
    "Clean up dataframe by removing duplicates, correcting capitalization, and remove tracks that don't have lyrics."
   ]
  },
  {
   "cell_type": "code",
   "execution_count": 4,
   "metadata": {
    "collapsed": true
   },
   "outputs": [],
   "source": [
    "df['track_name'] = df['track_name'].apply(lambda i: string.capwords(i))\n",
    "df.drop_duplicates(subset=['track_name', 'artist_name'], inplace=True)\n",
    "df.reset_index(drop=True, inplace=True)"
   ]
  },
  {
   "cell_type": "code",
   "execution_count": 5,
   "metadata": {
    "collapsed": true
   },
   "outputs": [],
   "source": [
    "df.drop(df[df['lyrics'].str.contains('<span')].index, inplace=True)\n",
    "df.reset_index(drop=True, inplace=True)"
   ]
  },
  {
   "cell_type": "markdown",
   "metadata": {},
   "source": [
    "Connect to Spotify API and get release dates of tracks by their album release date."
   ]
  },
  {
   "cell_type": "code",
   "execution_count": 6,
   "metadata": {
    "collapsed": true
   },
   "outputs": [],
   "source": [
    "client_credentials_manager = SpotifyClientCredentials(client_id=os.environ['SPOTIFY_CLIENT_ID'],\n",
    "                                                     client_secret=os.environ['SPOTIFY_CLIENT_SECRET'])\n",
    "\n",
    "spotify = spotipy.Spotify(client_credentials_manager=client_credentials_manager)"
   ]
  },
  {
   "cell_type": "markdown",
   "metadata": {},
   "source": [
    "Collect release dates of each track and create a new column."
   ]
  },
  {
   "cell_type": "code",
   "execution_count": 7,
   "metadata": {
    "collapsed": true
   },
   "outputs": [],
   "source": [
    "release_dates = []\n",
    "\n",
    "for index, row in df.iterrows():\n",
    "    album_id = row['album_id']\n",
    "    release_date = spotify.album(album_id)['release_date']\n",
    "    release_dates.append(release_date)"
   ]
  },
  {
   "cell_type": "code",
   "execution_count": 12,
   "metadata": {
    "collapsed": true
   },
   "outputs": [],
   "source": [
    "df['release_date'] = release_dates"
   ]
  },
  {
   "cell_type": "code",
   "execution_count": 13,
   "metadata": {},
   "outputs": [
    {
     "data": {
      "text/html": [
       "<div>\n",
       "<style>\n",
       "    .dataframe thead tr:only-child th {\n",
       "        text-align: right;\n",
       "    }\n",
       "\n",
       "    .dataframe thead th {\n",
       "        text-align: left;\n",
       "    }\n",
       "\n",
       "    .dataframe tbody tr th {\n",
       "        vertical-align: top;\n",
       "    }\n",
       "</style>\n",
       "<table border=\"1\" class=\"dataframe\">\n",
       "  <thead>\n",
       "    <tr style=\"text-align: right;\">\n",
       "      <th></th>\n",
       "      <th>album_name</th>\n",
       "      <th>album_id</th>\n",
       "      <th>duration_ms</th>\n",
       "      <th>track_id</th>\n",
       "      <th>track_name</th>\n",
       "      <th>artist_name</th>\n",
       "      <th>artist_id</th>\n",
       "      <th>lyrics</th>\n",
       "      <th>release_date</th>\n",
       "    </tr>\n",
       "  </thead>\n",
       "  <tbody>\n",
       "    <tr>\n",
       "      <th>0</th>\n",
       "      <td>Overcast! (20 Year Anniversary Remaster)</td>\n",
       "      <td>2fvyHrHdHKlPsq9pJaWIPU</td>\n",
       "      <td>139280</td>\n",
       "      <td>6reu6Jf5DWcRvM0YZyGbzv</td>\n",
       "      <td>@</td>\n",
       "      <td>Atmosphere</td>\n",
       "      <td>1GAS0rb4L8VTPvizAx2O9J</td>\n",
       "      <td>And now with the following collection of ghoul...</td>\n",
       "      <td>2017-10-27</td>\n",
       "    </tr>\n",
       "    <tr>\n",
       "      <th>1</th>\n",
       "      <td>Skool Luv Affair</td>\n",
       "      <td>5dht9IOTePdtkmeDegHxG6</td>\n",
       "      <td>239826</td>\n",
       "      <td>1P4fAbjYQqI5jA3Yshgpof</td>\n",
       "      <td>하루만</td>\n",
       "      <td>Bangtan Boys</td>\n",
       "      <td>3Nrfpe0tUJi4K4DXYWgMUX</td>\n",
       "      <td>하루만 내게 시간이 있다면\\n달콤한 니 향기에 취해서\\n곤히 난 잠들고파\\n빡빡한 ...</td>\n",
       "      <td>2015-03-18</td>\n",
       "    </tr>\n",
       "    <tr>\n",
       "      <th>2</th>\n",
       "      <td>WAKE UP 通常盤</td>\n",
       "      <td>7bypIG17C3n1BlftyaSJdE</td>\n",
       "      <td>232466</td>\n",
       "      <td>12ZzMA3m2ingQEzmbw3kNR</td>\n",
       "      <td>いいね!</td>\n",
       "      <td>Bangtan Boys</td>\n",
       "      <td>3Nrfpe0tUJi4K4DXYWgMUX</td>\n",
       "      <td>WANNA BE LOVED…\\n\\nDON’T WANNA BE FOOL, WANNA ...</td>\n",
       "      <td>2014-12-24</td>\n",
       "    </tr>\n",
       "    <tr>\n",
       "      <th>3</th>\n",
       "      <td>Skool Luv Affair</td>\n",
       "      <td>5dht9IOTePdtkmeDegHxG6</td>\n",
       "      <td>240266</td>\n",
       "      <td>7df9Iv1N1EJW1qtp5B98Hk</td>\n",
       "      <td>어디에서 왔는지</td>\n",
       "      <td>Bangtan Boys</td>\n",
       "      <td>3Nrfpe0tUJi4K4DXYWgMUX</td>\n",
       "      <td>가시나야 니는 어데서 왔노\\n까리뽕쌈하네 지금 어데로 가노\\n니는 몇살이고 니가 내...</td>\n",
       "      <td>2015-03-18</td>\n",
       "    </tr>\n",
       "    <tr>\n",
       "      <th>4</th>\n",
       "      <td>Skool Luv Affair</td>\n",
       "      <td>5dht9IOTePdtkmeDegHxG6</td>\n",
       "      <td>238573</td>\n",
       "      <td>2zXhxAKfMj2MieiRUNwaK9</td>\n",
       "      <td>등골브레이커</td>\n",
       "      <td>Bangtan Boys</td>\n",
       "      <td>3Nrfpe0tUJi4K4DXYWgMUX</td>\n",
       "      <td>La la la la la la la la la\\nLa la la la la la ...</td>\n",
       "      <td>2015-03-18</td>\n",
       "    </tr>\n",
       "  </tbody>\n",
       "</table>\n",
       "</div>"
      ],
      "text/plain": [
       "                                 album_name                album_id  \\\n",
       "0  Overcast! (20 Year Anniversary Remaster)  2fvyHrHdHKlPsq9pJaWIPU   \n",
       "1                          Skool Luv Affair  5dht9IOTePdtkmeDegHxG6   \n",
       "2                               WAKE UP 通常盤  7bypIG17C3n1BlftyaSJdE   \n",
       "3                          Skool Luv Affair  5dht9IOTePdtkmeDegHxG6   \n",
       "4                          Skool Luv Affair  5dht9IOTePdtkmeDegHxG6   \n",
       "\n",
       "   duration_ms                track_id track_name   artist_name  \\\n",
       "0       139280  6reu6Jf5DWcRvM0YZyGbzv          @    Atmosphere   \n",
       "1       239826  1P4fAbjYQqI5jA3Yshgpof        하루만  Bangtan Boys   \n",
       "2       232466  12ZzMA3m2ingQEzmbw3kNR       いいね!  Bangtan Boys   \n",
       "3       240266  7df9Iv1N1EJW1qtp5B98Hk   어디에서 왔는지  Bangtan Boys   \n",
       "4       238573  2zXhxAKfMj2MieiRUNwaK9     등골브레이커  Bangtan Boys   \n",
       "\n",
       "                artist_id                                             lyrics  \\\n",
       "0  1GAS0rb4L8VTPvizAx2O9J  And now with the following collection of ghoul...   \n",
       "1  3Nrfpe0tUJi4K4DXYWgMUX  하루만 내게 시간이 있다면\\n달콤한 니 향기에 취해서\\n곤히 난 잠들고파\\n빡빡한 ...   \n",
       "2  3Nrfpe0tUJi4K4DXYWgMUX  WANNA BE LOVED…\\n\\nDON’T WANNA BE FOOL, WANNA ...   \n",
       "3  3Nrfpe0tUJi4K4DXYWgMUX  가시나야 니는 어데서 왔노\\n까리뽕쌈하네 지금 어데로 가노\\n니는 몇살이고 니가 내...   \n",
       "4  3Nrfpe0tUJi4K4DXYWgMUX  La la la la la la la la la\\nLa la la la la la ...   \n",
       "\n",
       "  release_date  \n",
       "0   2017-10-27  \n",
       "1   2015-03-18  \n",
       "2   2014-12-24  \n",
       "3   2015-03-18  \n",
       "4   2015-03-18  "
      ]
     },
     "execution_count": 13,
     "metadata": {},
     "output_type": "execute_result"
    }
   ],
   "source": [
    "df.head()"
   ]
  },
  {
   "cell_type": "code",
   "execution_count": 14,
   "metadata": {
    "collapsed": true
   },
   "outputs": [],
   "source": [
    "with open('tracks_df.pickle', 'wb') as f:\n",
    "    pickle.dump(df, f)"
   ]
  }
 ],
 "metadata": {
  "kernelspec": {
   "display_name": "Python [default]",
   "language": "python",
   "name": "python3"
  },
  "language_info": {
   "codemirror_mode": {
    "name": "ipython",
    "version": 3
   },
   "file_extension": ".py",
   "mimetype": "text/x-python",
   "name": "python",
   "nbconvert_exporter": "python",
   "pygments_lexer": "ipython3",
   "version": "3.6.2"
  }
 },
 "nbformat": 4,
 "nbformat_minor": 2
}
