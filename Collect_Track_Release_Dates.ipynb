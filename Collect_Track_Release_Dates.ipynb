{
 "cells": [
  {
   "cell_type": "code",
   "execution_count": 1,
   "metadata": {
    "collapsed": true
   },
   "outputs": [],
   "source": [
    "import os\n",
    "import pandas as pd\n",
    "import spotipy\n",
    "import spotipy.util as util\n",
    "from spotipy.oauth2 import SpotifyClientCredentials\n",
    "from sqlalchemy import create_engine, MetaData, Table, select\n",
    "import string"
   ]
  },
  {
   "cell_type": "markdown",
   "metadata": {},
   "source": [
    "# Collect Track Release Dates"
   ]
  },
  {
   "cell_type": "markdown",
   "metadata": {},
   "source": [
    "From a previous project, connect to database and create dataframe of track data."
   ]
  },
  {
   "cell_type": "code",
   "execution_count": 2,
   "metadata": {
    "collapsed": true
   },
   "outputs": [],
   "source": [
    "engine_name = 'postgresql://' + str(os.environ['zU']) + ':' + str(os.environ['zP']) + str(os.environ['AWS_PROJECT_KOJAK_EC2'])\n",
    "engine = create_engine(engine_name)"
   ]
  },
  {
   "cell_type": "code",
   "execution_count": 3,
   "metadata": {
    "collapsed": true
   },
   "outputs": [],
   "source": [
    "df = pd.read_sql_query('''SELECT \n",
    "                          tracks.album_name,\n",
    "                          tracks.album_id,\n",
    "                          tracks.duration_ms,\n",
    "                          tracks.track_id,\n",
    "                          tracks.track_name,\n",
    "                          artists.artist_name,\n",
    "                          artists.artist_id,\n",
    "                          lyrics.lyrics\n",
    "                          FROM tracks\n",
    "                          JOIN artists ON tracks.artist_id = artists.artist_id\n",
    "                          JOIN lyrics ON tracks.track_id = lyrics.track_id\n",
    "                          WHERE tracks.energy IS NOT NULL\n",
    "                          AND lyrics.lyrics IS NOT NULL\n",
    "                          AND artists.artist_name != 'Kid Rock'\n",
    "                          ORDER BY tracks.track_name;''', engine)"
   ]
  },
  {
   "cell_type": "markdown",
   "metadata": {},
   "source": [
    "Clean up dataframe by removing duplicates, correcting capitalization, and remove tracks that don't have lyrics."
   ]
  },
  {
   "cell_type": "code",
   "execution_count": 4,
   "metadata": {
    "collapsed": true
   },
   "outputs": [],
   "source": [
    "df['track_name'] = df['track_name'].apply(lambda i: string.capwords(i))\n",
    "df.drop_duplicates(subset=['track_name', 'artist_name'], inplace=True)\n",
    "df.reset_index(drop=True, inplace=True)"
   ]
  },
  {
   "cell_type": "code",
   "execution_count": 5,
   "metadata": {
    "collapsed": true
   },
   "outputs": [],
   "source": [
    "df.drop(df[df['lyrics'].str.contains('<span')].index, inplace=True)\n",
    "df.reset_index(drop=True, inplace=True)"
   ]
  },
  {
   "cell_type": "markdown",
   "metadata": {},
   "source": [
    "Connect to Spotify API and get release dates of tracks by their album release date."
   ]
  },
  {
   "cell_type": "code",
   "execution_count": 6,
   "metadata": {
    "collapsed": true
   },
   "outputs": [],
   "source": [
    "client_credentials_manager = SpotifyClientCredentials(client_id=os.environ['SPOTIFY_CLIENT_ID'],\n",
    "                                                     client_secret=os.environ['SPOTIFY_CLIENT_SECRET'])\n",
    "\n",
    "spotify = spotipy.Spotify(client_credentials_manager=client_credentials_manager)"
   ]
  },
  {
   "cell_type": "code",
   "execution_count": null,
   "metadata": {},
   "outputs": [],
   "source": [
    "release_dates = []\n",
    "\n",
    "for index, row in df.iterrows():\n",
    "    album_id = row['album_id']\n",
    "    release_date = spotify.album(album_id)['release_date']\n",
    "    release_dates.append(release_date)"
   ]
  },
  {
   "cell_type": "code",
   "execution_count": null,
   "metadata": {
    "collapsed": true
   },
   "outputs": [],
   "source": []
  }
 ],
 "metadata": {
  "kernelspec": {
   "display_name": "Python [default]",
   "language": "python",
   "name": "python3"
  },
  "language_info": {
   "codemirror_mode": {
    "name": "ipython",
    "version": 3
   },
   "file_extension": ".py",
   "mimetype": "text/x-python",
   "name": "python",
   "nbconvert_exporter": "python",
   "pygments_lexer": "ipython3",
   "version": "3.6.2"
  }
 },
 "nbformat": 4,
 "nbformat_minor": 2
}
